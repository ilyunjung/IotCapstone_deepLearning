{
  "nbformat": 4,
  "nbformat_minor": 0,
  "metadata": {
    "colab": {
      "provenance": [],
      "authorship_tag": "ABX9TyP8HJ3Sd5d5JF4lLpQRunBT",
      "include_colab_link": true
    },
    "kernelspec": {
      "name": "python3",
      "display_name": "Python 3"
    },
    "language_info": {
      "name": "python"
    }
  },
  "cells": [
    {
      "cell_type": "markdown",
      "metadata": {
        "id": "view-in-github",
        "colab_type": "text"
      },
      "source": [
        "<a href=\"https://colab.research.google.com/github/ilyunjung/IotCapstone_deepLearning/blob/main/inference_teeth_cavity.ipynb\" target=\"_parent\"><img src=\"https://colab.research.google.com/assets/colab-badge.svg\" alt=\"Open In Colab\"/></a>"
      ]
    },
    {
      "cell_type": "markdown",
      "source": [
        "# 촬영한 사진에 대해 충치 진단\n",
        "### - 해당 파일은 yolov5 디렉토리에 존재해야함"
      ],
      "metadata": {
        "id": "7uy7iHbKjrGx"
      }
    },
    {
      "cell_type": "code",
      "execution_count": null,
      "metadata": {
        "id": "K6G5j7pecG1w"
      },
      "outputs": [],
      "source": [
        "import subprocess\n",
        "for i in range(1, 5):\n",
        "    command = \"python detect.py --weight /home/hansung/yolov5/best.pt --img 416 --conf 0.5 --source /home/hansung/Desktop/teeth_pic/photo_{i}.jpg\"\n",
        "\n",
        "    subprocess.run(command, shell=True)"
      ]
    }
  ]
}