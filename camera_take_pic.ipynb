{
  "nbformat": 4,
  "nbformat_minor": 0,
  "metadata": {
    "colab": {
      "provenance": [],
      "authorship_tag": "ABX9TyNt9EGknsP2zYkirDbZvj+f",
      "include_colab_link": true
    },
    "kernelspec": {
      "name": "python3",
      "display_name": "Python 3"
    },
    "language_info": {
      "name": "python"
    }
  },
  "cells": [
    {
      "cell_type": "markdown",
      "metadata": {
        "id": "view-in-github",
        "colab_type": "text"
      },
      "source": [
        "<a href=\"https://colab.research.google.com/github/ilyunjung/IotCapstone_deepLearning/blob/main/Untitled0.ipynb\" target=\"_parent\"><img src=\"https://colab.research.google.com/assets/colab-badge.svg\" alt=\"Open In Colab\"/></a>"
      ]
    },
    {
      "cell_type": "markdown",
      "source": [
        "## USB 카메라 촬영 코드"
      ],
      "metadata": {
        "id": "HkkDRY7ka4dc"
      }
    },
    {
      "cell_type": "code",
      "execution_count": null,
      "metadata": {
        "id": "sHdOiI2jZVWx"
      },
      "outputs": [],
      "source": [
        "import os\n",
        "import cv2\n",
        "import pygame\n",
        "\n",
        "# 사진이 저장되는 경로\n",
        "save_dir = '/home/hansung/Desktop/teeth_pic'\n",
        "\n",
        "# 파이게임 시작\n",
        "pygame.init()\n",
        "\n",
        "# openCV를 통해 USB카메라 정보 가져옴\n",
        "camera = cv2.VideoCapture(0)\n",
        "if not camera.isOpened():\n",
        "    print('Failed to open camera.')\n",
        "    exit()\n",
        "\n",
        "# 디렉토리가 존재하지 않을 경우 생성\n",
        "os.makedirs(save_dir, exist_ok=True)\n",
        "\n",
        "# 저장되는 사진 숫자\n",
        "photo_counter = 1\n",
        "\n",
        "\n",
        "running = True\n",
        "while running:\n",
        "    # 카메라의 프레임 정보 가져옴\n",
        "    ret, frame = camera.read()\n",
        "    if not ret:\n",
        "        print('Failed to capture frame.')\n",
        "        break\n",
        "\n",
        "    # Pygame 에 프레임 정보 RGB로 변환하는 과정\n",
        "    frame_rgb = cv2.cvtColor(frame, cv2.COLOR_BGR2RGB)\n",
        "    frame_pil = pygame.surfarray.make_surface(frame_rgb)\n",
        "\n",
        "    # 파이게임 화면 구성 및 크기 조절\n",
        "    screen = pygame.display.set_mode((frame.shape[1], frame.shape[0]))\n",
        "    screen.blit(frame_pil, (0, 0))\n",
        "    pygame.display.flip()\n",
        "\n",
        "    # 터치 이벤트\n",
        "    for event in pygame.event.get():\n",
        "        if event.type == pygame.MOUSEBUTTONDOWN:\n",
        "            # 사진 저장 이름\n",
        "            photo_name = f'photo_{photo_counter}.jpg'\n",
        "            photo_path = os.path.join(save_dir, photo_name)\n",
        "            cv2.imwrite(photo_path, frame)\n",
        "            print(f'Photo saved: {photo_path}')\n",
        "            photo_counter += 1\n",
        "\n",
        "        elif event.type == pygame.QUIT:\n",
        "            running = False\n",
        "\n",
        "# 카메라 해제 및 중지\n",
        "camera.release()\n",
        "pygame.quit()"
      ]
    }
  ]
}
